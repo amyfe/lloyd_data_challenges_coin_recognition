{
 "cells": [
  {
   "cell_type": "markdown",
   "id": "2b6dd70d-26a5-4aa7-ba62-c7d420241c73",
   "metadata": {
    "jp-MarkdownHeadingCollapsed": true,
    "scrolled": true
   },
   "source": [
    "<h1>Münzen Erkennung</h1>"
   ]
  },
  {
   "cell_type": "markdown",
   "id": "0ed568be-62cd-408b-aa94-f0571546ebd8",
   "metadata": {},
   "source": [
    "# Imports"
   ]
  },
  {
   "cell_type": "code",
   "execution_count": 1,
   "id": "5048b574",
   "metadata": {},
   "outputs": [],
   "source": [
    "import torch"
   ]
  },
  {
   "cell_type": "code",
   "execution_count": 2,
   "id": "ea414531-be74-42ab-b765-36db5b1f7b24",
   "metadata": {},
   "outputs": [],
   "source": [
    "import os"
   ]
  },
  {
   "cell_type": "code",
   "execution_count": 3,
   "id": "da277c51-252d-46ce-a996-6ad629c7c5af",
   "metadata": {},
   "outputs": [
    {
     "name": "stdout",
     "output_type": "stream",
     "text": [
      "2.7.0+cu118\n"
     ]
    }
   ],
   "source": [
    "print(torch.__version__)"
   ]
  },
  {
   "cell_type": "code",
   "execution_count": 4,
   "id": "ccc09f1c-5894-4773-a17d-85fa9cc7b3c9",
   "metadata": {
    "scrolled": true
   },
   "outputs": [
    {
     "name": "stderr",
     "output_type": "stream",
     "text": [
      "2025-07-19 12:37:50.433233: I external/local_xla/xla/tsl/cuda/cudart_stub.cc:32] Could not find cuda drivers on your machine, GPU will not be used.\n",
      "2025-07-19 12:37:50.622775: E external/local_xla/xla/stream_executor/cuda/cuda_fft.cc:467] Unable to register cuFFT factory: Attempting to register factory for plugin cuFFT when one has already been registered\n",
      "WARNING: All log messages before absl::InitializeLog() is called are written to STDERR\n",
      "E0000 00:00:1752921470.770409   57402 cuda_dnn.cc:8579] Unable to register cuDNN factory: Attempting to register factory for plugin cuDNN when one has already been registered\n",
      "E0000 00:00:1752921470.810191   57402 cuda_blas.cc:1407] Unable to register cuBLAS factory: Attempting to register factory for plugin cuBLAS when one has already been registered\n",
      "W0000 00:00:1752921471.124320   57402 computation_placer.cc:177] computation placer already registered. Please check linkage and avoid linking the same target more than once.\n",
      "W0000 00:00:1752921471.124404   57402 computation_placer.cc:177] computation placer already registered. Please check linkage and avoid linking the same target more than once.\n",
      "W0000 00:00:1752921471.124412   57402 computation_placer.cc:177] computation placer already registered. Please check linkage and avoid linking the same target more than once.\n",
      "W0000 00:00:1752921471.124417   57402 computation_placer.cc:177] computation placer already registered. Please check linkage and avoid linking the same target more than once.\n",
      "2025-07-19 12:37:51.166364: I tensorflow/core/platform/cpu_feature_guard.cc:210] This TensorFlow binary is optimized to use available CPU instructions in performance-critical operations.\n",
      "To enable the following instructions: AVX2 FMA, in other operations, rebuild TensorFlow with the appropriate compiler flags.\n"
     ]
    }
   ],
   "source": [
    "from coin_clip import CoinClip"
   ]
  },
  {
   "cell_type": "code",
   "execution_count": 5,
   "id": "aa3a2aaf-89e0-42c9-93fc-f1175ea3387e",
   "metadata": {},
   "outputs": [
    {
     "name": "stderr",
     "output_type": "stream",
     "text": [
      "Using a slow image processor as `use_fast` is unset and a slow processor was saved with this model. `use_fast=True` will be the default behavior in v4.52, even if the model was saved with a slow processor. This will result in minor differences in outputs. You'll still be able to use a slow processor with `use_fast=False`.\n"
     ]
    }
   ],
   "source": [
    "# Automatically download the model from Huggingface\n",
    "model = CoinClip(model_name='breezedeus/coin-clip-vit-base-patch32', use_fast=True)\n"
   ]
  },
  {
   "cell_type": "code",
   "execution_count": 353,
   "id": "457cf9cd-915b-4846-bc93-29478e2d8782",
   "metadata": {},
   "outputs": [],
   "source": [
    "folder_path = \"/home/haimi/My_Projects/DC_Lloyd/datachallenges_group_lloyd/data/reverse/Prot\""
   ]
  },
  {
   "cell_type": "code",
   "execution_count": 354,
   "id": "5777e183-cdb7-48e9-98a9-196ddf872b56",
   "metadata": {},
   "outputs": [],
   "source": [
    "# Get all file names in the folder\n",
    "images = [os.path.join(folder_path, f) for f in os.listdir(folder_path) if os.path.isfile(os.path.join(folder_path, f))]\n",
    "\n",
    "\n"
   ]
  },
  {
   "cell_type": "code",
   "execution_count": 355,
   "id": "a45209a9-3029-4112-9d6c-e56f66643124",
   "metadata": {},
   "outputs": [
    {
     "name": "stdout",
     "output_type": "stream",
     "text": [
      "['/home/haimi/My_Projects/DC_Lloyd/datachallenges_group_lloyd/data/reverse/Prot/2969_r.jpg', '/home/haimi/My_Projects/DC_Lloyd/datachallenges_group_lloyd/data/reverse/Prot/2447_r.jpg', '/home/haimi/My_Projects/DC_Lloyd/datachallenges_group_lloyd/data/reverse/Prot/2476_r.jpg', '/home/haimi/My_Projects/DC_Lloyd/datachallenges_group_lloyd/data/reverse/Prot/2233_r.jpg', '/home/haimi/My_Projects/DC_Lloyd/datachallenges_group_lloyd/data/reverse/Prot/2942_r.jpg', '/home/haimi/My_Projects/DC_Lloyd/datachallenges_group_lloyd/data/reverse/Prot/2952_r.jpg', '/home/haimi/My_Projects/DC_Lloyd/datachallenges_group_lloyd/data/reverse/Prot/2450_r.jpg', '/home/haimi/My_Projects/DC_Lloyd/datachallenges_group_lloyd/data/reverse/Prot/2488_r.jpg', '/home/haimi/My_Projects/DC_Lloyd/datachallenges_group_lloyd/data/reverse/Prot/2921_r.jpg', '/home/haimi/My_Projects/DC_Lloyd/datachallenges_group_lloyd/data/reverse/Prot/2467_r.jpg', '/home/haimi/My_Projects/DC_Lloyd/datachallenges_group_lloyd/data/reverse/Prot/2839_r.jpg', '/home/haimi/My_Projects/DC_Lloyd/datachallenges_group_lloyd/data/reverse/Prot/2944_r.jpg', '/home/haimi/My_Projects/DC_Lloyd/datachallenges_group_lloyd/data/reverse/Prot/3415_r.jpg', '/home/haimi/My_Projects/DC_Lloyd/datachallenges_group_lloyd/data/reverse/Prot/2469_r.jpg', '/home/haimi/My_Projects/DC_Lloyd/datachallenges_group_lloyd/data/reverse/Prot/2438_r.jpg', '/home/haimi/My_Projects/DC_Lloyd/datachallenges_group_lloyd/data/reverse/Prot/2866_r.jpg', '/home/haimi/My_Projects/DC_Lloyd/datachallenges_group_lloyd/data/reverse/Prot/2474_r.jpg', '/home/haimi/My_Projects/DC_Lloyd/datachallenges_group_lloyd/data/reverse/Prot/2448_r.jpg', '/home/haimi/My_Projects/DC_Lloyd/datachallenges_group_lloyd/data/reverse/Prot/2456_r.jpg', '/home/haimi/My_Projects/DC_Lloyd/datachallenges_group_lloyd/data/reverse/Prot/2418_r.jpg', '/home/haimi/My_Projects/DC_Lloyd/datachallenges_group_lloyd/data/reverse/Prot/3425_r.jpg', '/home/haimi/My_Projects/DC_Lloyd/datachallenges_group_lloyd/data/reverse/Prot/2424_r.jpg', '/home/haimi/My_Projects/DC_Lloyd/datachallenges_group_lloyd/data/reverse/Prot/2396_r.jpg', '/home/haimi/My_Projects/DC_Lloyd/datachallenges_group_lloyd/data/reverse/Prot/2235_r.jpg', '/home/haimi/My_Projects/DC_Lloyd/datachallenges_group_lloyd/data/reverse/Prot/3423_r.jpg', '/home/haimi/My_Projects/DC_Lloyd/datachallenges_group_lloyd/data/reverse/Prot/3133_r.jpg', '/home/haimi/My_Projects/DC_Lloyd/datachallenges_group_lloyd/data/reverse/Prot/2971_r.jpg', '/home/haimi/My_Projects/DC_Lloyd/datachallenges_group_lloyd/data/reverse/Prot/3444_r.jpg', '/home/haimi/My_Projects/DC_Lloyd/datachallenges_group_lloyd/data/reverse/Prot/2923_r.jpg', '/home/haimi/My_Projects/DC_Lloyd/datachallenges_group_lloyd/data/reverse/Prot/3448_r.jpg', '/home/haimi/My_Projects/DC_Lloyd/datachallenges_group_lloyd/data/reverse/Prot/306_r.jpg', '/home/haimi/My_Projects/DC_Lloyd/datachallenges_group_lloyd/data/reverse/Prot/2838_r.jpg', '/home/haimi/My_Projects/DC_Lloyd/datachallenges_group_lloyd/data/reverse/Prot/3447_r.jpg', '/home/haimi/My_Projects/DC_Lloyd/datachallenges_group_lloyd/data/reverse/Prot/2475_r.jpg', '/home/haimi/My_Projects/DC_Lloyd/datachallenges_group_lloyd/data/reverse/Prot/2881_r.jpg']\n"
     ]
    }
   ],
   "source": [
    "print(images)"
   ]
  },
  {
   "cell_type": "code",
   "execution_count": 356,
   "id": "9f37a009-3ef4-449a-9875-04e81d424dfe",
   "metadata": {},
   "outputs": [],
   "source": [
    "#images = ['examples/10_back.jpg', 'examples/16_back.jpg']"
   ]
  },
  {
   "cell_type": "code",
   "execution_count": 357,
   "id": "8c1fc5d7-2bb2-4bc3-8e2a-494601fef3a2",
   "metadata": {},
   "outputs": [],
   "source": [
    "img_feats, success_ids = model.get_image_features(images)"
   ]
  },
  {
   "cell_type": "code",
   "execution_count": 358,
   "id": "a9912d8d-bbf9-4d4a-8d89-ca74fa1927bb",
   "metadata": {},
   "outputs": [
    {
     "name": "stdout",
     "output_type": "stream",
     "text": [
      "(35, 512)\n"
     ]
    }
   ],
   "source": [
    "print(img_feats.shape)  # --> (2, 512)"
   ]
  },
  {
   "cell_type": "code",
   "execution_count": 359,
   "id": "2f7d7d0d-32e6-4d29-bbc9-a5057b5ae7f6",
   "metadata": {},
   "outputs": [
    {
     "name": "stdout",
     "output_type": "stream",
     "text": [
      "[[ 0.04585221 -0.0365212  -0.02766695 ...  0.01009171  0.01250428\n",
      "   0.01744948]\n",
      " [ 0.0704374  -0.05111754 -0.08384275 ...  0.0200739  -0.02877168\n",
      "   0.01847598]\n",
      " [ 0.0333279   0.0288273  -0.00579925 ...  0.01770137  0.00480435\n",
      "   0.01705496]\n",
      " ...\n",
      " [ 0.03804522  0.00407608 -0.04592149 ...  0.00816219  0.0002041\n",
      "   0.02565422]\n",
      " [ 0.04785412  0.01914124 -0.06334844 ...  0.00754003  0.00616258\n",
      "   0.03287179]\n",
      " [ 0.03738024  0.03180581 -0.01569935 ...  0.01845201  0.02015862\n",
      "   0.00826488]]\n"
     ]
    }
   ],
   "source": [
    "print(img_feats)"
   ]
  },
  {
   "cell_type": "code",
   "execution_count": 360,
   "id": "9dfbe8ce-0d42-4f5c-b181-26909a5f3e29",
   "metadata": {},
   "outputs": [
    {
     "name": "stdout",
     "output_type": "stream",
     "text": [
      "<class 'numpy.ndarray'>\n"
     ]
    }
   ],
   "source": [
    "print(type(img_feats))"
   ]
  },
  {
   "cell_type": "markdown",
   "id": "3c3905ab-042d-4dae-8376-400dedf9597c",
   "metadata": {},
   "source": [
    "# Saving the image feats"
   ]
  },
  {
   "cell_type": "code",
   "execution_count": 361,
   "id": "359d2910-3def-45dc-8364-3c24fec70058",
   "metadata": {},
   "outputs": [],
   "source": [
    "import numpy as np"
   ]
  },
  {
   "cell_type": "code",
   "execution_count": 362,
   "id": "0784f5b1-0c05-40bf-9caf-b0d32a2541ec",
   "metadata": {},
   "outputs": [
    {
     "name": "stdout",
     "output_type": "stream",
     "text": [
      "reverse_Prot\n"
     ]
    }
   ],
   "source": [
    "#rename\n",
    "\n",
    "# Split the path by '/' and get the last two parts\n",
    "parts = folder_path.strip('/').split('/')\n",
    "last_two = parts[-2:]\n",
    "\n",
    "last_two_str = '_'.join(last_two)\n",
    "print(last_two_str)"
   ]
  },
  {
   "cell_type": "code",
   "execution_count": 363,
   "id": "c2ca4e62-c729-4747-b95a-e3501362064d",
   "metadata": {},
   "outputs": [
    {
     "name": "stdout",
     "output_type": "stream",
     "text": [
      "img_features_reverse_Prot.csv\n"
     ]
    }
   ],
   "source": [
    "print(f'img_features_{last_two_str}.csv')"
   ]
  },
  {
   "cell_type": "code",
   "execution_count": 364,
   "id": "fdf66781-15e6-4156-a1c3-5e6474fdbfac",
   "metadata": {},
   "outputs": [],
   "source": [
    "# Folder to save in\n",
    "folder_img_feats = \"img_feats_coinclip\"\n",
    "\n"
   ]
  },
  {
   "cell_type": "code",
   "execution_count": 365,
   "id": "29f104bf-101a-4341-a94d-a893193c4f01",
   "metadata": {},
   "outputs": [],
   "source": [
    "# Create folder if it doesn't exist\n",
    "os.makedirs(folder_img_feats, exist_ok=True)"
   ]
  },
  {
   "cell_type": "code",
   "execution_count": 366,
   "id": "b4ba4029-8fe9-4d7d-9425-04348e32600f",
   "metadata": {},
   "outputs": [],
   "source": [
    "# Full path to save the CSV\n",
    "file_path = os.path.join(folder_img_feats, f'img_features_{last_two_str}.csv')"
   ]
  },
  {
   "cell_type": "code",
   "execution_count": 367,
   "id": "700465de-906e-4dd0-a68f-75919810f5ec",
   "metadata": {},
   "outputs": [
    {
     "name": "stdout",
     "output_type": "stream",
     "text": [
      "img_feats_coinclip/img_features_reverse_Prot.csv\n"
     ]
    }
   ],
   "source": [
    "print(file_path)"
   ]
  },
  {
   "cell_type": "code",
   "execution_count": 368,
   "id": "d8dce4af-79e6-45d4-ac3d-3b620bb73632",
   "metadata": {},
   "outputs": [],
   "source": [
    "# assuming image_features is your numpy array\n",
    "np.savetxt(file_path, img_feats, delimiter=',')"
   ]
  },
  {
   "cell_type": "markdown",
   "id": "05ea0293-7d7d-4065-bf7c-f39083c447b3",
   "metadata": {},
   "source": [
    "# Building a Vector Retrieval Engine"
   ]
  },
  {
   "cell_type": "code",
   "execution_count": 369,
   "id": "d88abbf0-6686-4d74-b896-a136273e9d82",
   "metadata": {},
   "outputs": [
    {
     "name": "stdout",
     "output_type": "stream",
     "text": [
      "\n",
      "A module that was compiled using NumPy 1.x cannot be run in\n",
      "NumPy 2.0.2 as it may crash. To support both 1.x and 2.x\n",
      "versions of NumPy, modules must be compiled with NumPy 2.0.\n",
      "Some module may need to rebuild instead e.g. with 'pybind11>=2.12'.\n",
      "\n",
      "If you are a user of the module, the easiest solution will be to\n",
      "downgrade to 'numpy<2' or try to upgrade the affected module.\n",
      "We expect that some modules will need time to support NumPy 2.\n",
      "\n",
      "Traceback (most recent call last):  File \"/home/haimi/anaconda3/bin/coin-clip\", line 5, in <module>\n",
      "    from coin_clip.cli import cli\n",
      "  File \"/home/haimi/anaconda3/lib/python3.9/site-packages/coin_clip/__init__.py\", line 20, in <module>\n",
      "    from .coinclip import CoinClip\n",
      "  File \"/home/haimi/anaconda3/lib/python3.9/site-packages/coin_clip/coinclip.py\", line 25, in <module>\n",
      "    import torch\n",
      "  File \"/home/haimi/anaconda3/lib/python3.9/site-packages/torch/__init__.py\", line 643, in <module>\n",
      "    from .functional import *  # noqa: F403\n",
      "  File \"/home/haimi/anaconda3/lib/python3.9/site-packages/torch/functional.py\", line 6, in <module>\n",
      "    import torch.nn.functional as F\n",
      "  File \"/home/haimi/anaconda3/lib/python3.9/site-packages/torch/nn/__init__.py\", line 1, in <module>\n",
      "    from .modules import *  # noqa: F403\n",
      "  File \"/home/haimi/anaconda3/lib/python3.9/site-packages/torch/nn/modules/__init__.py\", line 2, in <module>\n",
      "    from .linear import Identity, Linear, Bilinear, LazyLinear\n",
      "  File \"/home/haimi/anaconda3/lib/python3.9/site-packages/torch/nn/modules/linear.py\", line 6, in <module>\n",
      "    from .. import functional as F\n",
      "  File \"/home/haimi/anaconda3/lib/python3.9/site-packages/torch/nn/functional.py\", line 11, in <module>\n",
      "    from .._jit_internal import boolean_dispatch, _overload, BroadcastingList1, BroadcastingList2, BroadcastingList3\n",
      "  File \"/home/haimi/anaconda3/lib/python3.9/site-packages/torch/_jit_internal.py\", line 28, in <module>\n",
      "    import torch.package._mangling as package_mangling\n",
      "  File \"/home/haimi/anaconda3/lib/python3.9/site-packages/torch/package/__init__.py\", line 12, in <module>\n",
      "    from .package_importer import PackageImporter\n",
      "  File \"/home/haimi/anaconda3/lib/python3.9/site-packages/torch/package/package_importer.py\", line 16, in <module>\n",
      "    from ._directory_reader import DirectoryReader\n",
      "  File \"/home/haimi/anaconda3/lib/python3.9/site-packages/torch/package/_directory_reader.py\", line 17, in <module>\n",
      "    _dtype_to_storage = {data_type(0).dtype: data_type for data_type in _storages}\n",
      "  File \"/home/haimi/anaconda3/lib/python3.9/site-packages/torch/package/_directory_reader.py\", line 17, in <dictcomp>\n",
      "    _dtype_to_storage = {data_type(0).dtype: data_type for data_type in _storages}\n",
      "/home/haimi/anaconda3/lib/python3.9/site-packages/torch/package/_directory_reader.py:17: UserWarning: Failed to initialize NumPy: _ARRAY_API not found (Triggered internally at  ../torch/csrc/utils/tensor_numpy.cpp:68.)\n",
      "  _dtype_to_storage = {data_type(0).dtype: data_type for data_type in _storages}\n",
      "Traceback (most recent call last):\n",
      "  File \"/home/haimi/anaconda3/bin/coin-clip\", line 5, in <module>\n",
      "    from coin_clip.cli import cli\n",
      "  File \"/home/haimi/anaconda3/lib/python3.9/site-packages/coin_clip/__init__.py\", line 20, in <module>\n",
      "    from .coinclip import CoinClip\n",
      "  File \"/home/haimi/anaconda3/lib/python3.9/site-packages/coin_clip/coinclip.py\", line 25, in <module>\n",
      "    import torch\n",
      "  File \"/home/haimi/anaconda3/lib/python3.9/site-packages/torch/__init__.py\", line 721, in <module>\n",
      "    import torch.utils.data\n",
      "  File \"/home/haimi/anaconda3/lib/python3.9/site-packages/torch/utils/data/__init__.py\", line 38, in <module>\n",
      "    from torch.utils.data.dataloader_experimental import DataLoader2\n",
      "  File \"/home/haimi/anaconda3/lib/python3.9/site-packages/torch/utils/data/dataloader_experimental.py\", line 11, in <module>\n",
      "    from torch.utils.data.datapipes.iter import IterableWrapper\n",
      "  File \"/home/haimi/anaconda3/lib/python3.9/site-packages/torch/utils/data/datapipes/__init__.py\", line 1, in <module>\n",
      "    from . import iter\n",
      "  File \"/home/haimi/anaconda3/lib/python3.9/site-packages/torch/utils/data/datapipes/iter/__init__.py\", line 37, in <module>\n",
      "    from torch.utils.data.datapipes.iter.selecting import (\n",
      "  File \"/home/haimi/anaconda3/lib/python3.9/site-packages/torch/utils/data/datapipes/iter/selecting.py\", line 7, in <module>\n",
      "    import pandas  # type: ignore[import]\n",
      "  File \"/home/haimi/anaconda3/lib/python3.9/site-packages/pandas/__init__.py\", line 22, in <module>\n",
      "    from pandas.compat import (\n",
      "  File \"/home/haimi/anaconda3/lib/python3.9/site-packages/pandas/compat/__init__.py\", line 15, in <module>\n",
      "    from pandas.compat.numpy import (\n",
      "  File \"/home/haimi/anaconda3/lib/python3.9/site-packages/pandas/compat/numpy/__init__.py\", line 7, in <module>\n",
      "    from pandas.util.version import Version\n",
      "  File \"/home/haimi/anaconda3/lib/python3.9/site-packages/pandas/util/__init__.py\", line 1, in <module>\n",
      "    from pandas.util._decorators import (  # noqa\n",
      "  File \"/home/haimi/anaconda3/lib/python3.9/site-packages/pandas/util/_decorators.py\", line 14, in <module>\n",
      "    from pandas._libs.properties import cache_readonly  # noqa\n",
      "  File \"/home/haimi/anaconda3/lib/python3.9/site-packages/pandas/_libs/__init__.py\", line 13, in <module>\n",
      "    from pandas._libs.interval import Interval\n",
      "  File \"pandas/_libs/interval.pyx\", line 1, in init pandas._libs.interval\n",
      "ValueError: numpy.dtype size changed, may indicate binary incompatibility. Expected 96 from C header, got 88 from PyObject\n"
     ]
    }
   ],
   "source": [
    "!coin-clip build-db -i small_A -o coin_clip_chroma.db"
   ]
  },
  {
   "cell_type": "code",
   "execution_count": 370,
   "id": "b892fcf1-5378-4385-b624-95b1252d9ba2",
   "metadata": {},
   "outputs": [
    {
     "name": "stdout",
     "output_type": "stream",
     "text": [
      "/bin/bash: line 1: $: command not found\n"
     ]
    }
   ],
   "source": [
    "!$ coin-clip retrieve --db-dir coin_clip_chroma.db -i similarA1/3853_a.jpg"
   ]
  },
  {
   "cell_type": "markdown",
   "id": "2ecbfe66-73bb-4ebe-a78e-60c323a353bd",
   "metadata": {},
   "source": [
    "INFO 2025-06-01 15:02:04,195 retrieve:157 39 Items in the collection\n",
    "INFO 2025-06-01 15:02:04,333 retrieve:167 Retrieved URIs: ['small_A/3853_a.jpg', 'small_A/3856_a.jpg', 'small_A/3854_a.jpg']\n",
    "INFO 2025-06-01 15:02:04,333 retrieve:168 Retrieved Distances: [0.0, 0.08217549324035645, 0.10755562782287598]\n",
    "\n",
    "From the most similar to the least. The smaller the number the better."
   ]
  },
  {
   "cell_type": "markdown",
   "id": "41c507d8-e5ab-4389-8290-2251cf30514e",
   "metadata": {},
   "source": [
    "To get the logger info, go to github.\n",
    "- coin_clip/cli.py\n",
    "- search \"Retrieved URIs:\"\n",
    "- there we can decide where we want to store the numbers?"
   ]
  }
 ],
 "metadata": {
  "kernelspec": {
   "display_name": "Python(CoinDetect)",
   "language": "python",
   "name": "coindetect"
  }
 },
 "nbformat": 4,
 "nbformat_minor": 5
}
