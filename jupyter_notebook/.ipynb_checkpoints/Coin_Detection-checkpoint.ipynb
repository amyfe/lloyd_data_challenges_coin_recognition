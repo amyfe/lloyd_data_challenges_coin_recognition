{
 "cells": [
  {
   "cell_type": "markdown",
   "id": "2b6dd70d-26a5-4aa7-ba62-c7d420241c73",
   "metadata": {
    "jp-MarkdownHeadingCollapsed": true,
    "scrolled": true
   },
   "source": [
    "<h1>Münzen Erkennung</h1>"
   ]
  },
  {
   "cell_type": "markdown",
   "id": "0ed568be-62cd-408b-aa94-f0571546ebd8",
   "metadata": {},
   "source": [
    "# Imports"
   ]
  },
  {
   "cell_type": "code",
   "execution_count": 1,
   "id": "5048b574",
   "metadata": {},
   "outputs": [],
   "source": [
    "import torch"
   ]
  },
  {
   "cell_type": "code",
   "execution_count": 2,
   "id": "da277c51-252d-46ce-a996-6ad629c7c5af",
   "metadata": {},
   "outputs": [
    {
     "name": "stdout",
     "output_type": "stream",
     "text": [
      "2.7.0+cu118\n"
     ]
    }
   ],
   "source": [
    "print(torch.__version__)"
   ]
  },
  {
   "cell_type": "code",
   "execution_count": 3,
   "id": "ccc09f1c-5894-4773-a17d-85fa9cc7b3c9",
   "metadata": {},
   "outputs": [],
   "source": [
    "from coin_clip import CoinClip"
   ]
  },
  {
   "cell_type": "code",
   "execution_count": 4,
   "id": "aa3a2aaf-89e0-42c9-93fc-f1175ea3387e",
   "metadata": {},
   "outputs": [
    {
     "name": "stderr",
     "output_type": "stream",
     "text": [
      "Using a slow image processor as `use_fast` is unset and a slow processor was saved with this model. `use_fast=True` will be the default behavior in v4.52, even if the model was saved with a slow processor. This will result in minor differences in outputs. You'll still be able to use a slow processor with `use_fast=False`.\n"
     ]
    }
   ],
   "source": [
    "# Automatically download the model from Huggingface\n",
    "model = CoinClip(model_name='breezedeus/coin-clip-vit-base-patch32')\n"
   ]
  },
  {
   "cell_type": "code",
   "execution_count": 6,
   "id": "9f37a009-3ef4-449a-9875-04e81d424dfe",
   "metadata": {},
   "outputs": [],
   "source": [
    "images = ['test_coin_one_euro.png', 'test_coin_two_euro.png']"
   ]
  },
  {
   "cell_type": "code",
   "execution_count": 7,
   "id": "8c1fc5d7-2bb2-4bc3-8e2a-494601fef3a2",
   "metadata": {},
   "outputs": [],
   "source": [
    "img_feats, success_ids = model.get_image_features(images)"
   ]
  },
  {
   "cell_type": "code",
   "execution_count": 8,
   "id": "a9912d8d-bbf9-4d4a-8d89-ca74fa1927bb",
   "metadata": {},
   "outputs": [
    {
     "name": "stdout",
     "output_type": "stream",
     "text": [
      "(2, 512)\n"
     ]
    }
   ],
   "source": [
    "print(img_feats.shape)  # --> (2, 512)"
   ]
  },
  {
   "cell_type": "markdown",
   "id": "05ea0293-7d7d-4065-bf7c-f39083c447b3",
   "metadata": {},
   "source": [
    "# Building a Vector Retrieval Engine"
   ]
  },
  {
   "cell_type": "code",
   "execution_count": 11,
   "id": "d88abbf0-6686-4d74-b896-a136273e9d82",
   "metadata": {},
   "outputs": [
    {
     "name": "stdout",
     "output_type": "stream",
     "text": [
      "/bin/bash: line 1: coin-clip: command not found\n"
     ]
    }
   ],
   "source": [
    "!coin-clip build-db -i small_A -o coin_clip_chroma.db"
   ]
  },
  {
   "cell_type": "code",
   "execution_count": null,
   "id": "b892fcf1-5378-4385-b624-95b1252d9ba2",
   "metadata": {},
   "outputs": [],
   "source": [
    "!$ coin-clip retrieve --db-dir coin_clip_chroma.db -i similarA1/3853_a.jpg"
   ]
  },
  {
   "cell_type": "markdown",
   "id": "2ecbfe66-73bb-4ebe-a78e-60c323a353bd",
   "metadata": {},
   "source": [
    "INFO 2025-06-01 15:02:04,195 retrieve:157 39 Items in the collection\n",
    "INFO 2025-06-01 15:02:04,333 retrieve:167 Retrieved URIs: ['small_A/3853_a.jpg', 'small_A/3856_a.jpg', 'small_A/3854_a.jpg']\n",
    "INFO 2025-06-01 15:02:04,333 retrieve:168 Retrieved Distances: [0.0, 0.08217549324035645, 0.10755562782287598]\n",
    "\n",
    "From the most similar to the least. The smaller the number the better."
   ]
  },
  {
   "cell_type": "markdown",
   "id": "41c507d8-e5ab-4389-8290-2251cf30514e",
   "metadata": {},
   "source": [
    "To get the logger info, go to github.\n",
    "- coin_clip/cli.py\n",
    "- search \"Retrieved URIs:\"\n",
    "- there we can decide where we want to store the numbers?"
   ]
  }
 ],
 "metadata": {
  "kernelspec": {
   "display_name": "Python(CoinDetect)",
   "language": "python",
   "name": "coindetect"
  },
  "language_info": {
   "codemirror_mode": {
    "name": "ipython",
    "version": 3
   },
   "file_extension": ".py",
   "mimetype": "text/x-python",
   "name": "python",
   "nbconvert_exporter": "python",
   "pygments_lexer": "ipython3",
   "version": "3.9.21"
  }
 },
 "nbformat": 4,
 "nbformat_minor": 5
}
